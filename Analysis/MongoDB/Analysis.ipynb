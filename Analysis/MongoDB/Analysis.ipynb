{
 "cells": [
  {
   "cell_type": "markdown",
   "metadata": {},
   "source": [
    "# Database query analysis"
   ]
  },
  {
   "cell_type": "markdown",
   "metadata": {},
   "source": [
    "### Query used\n",
    "\n",
    "{\n",
    "  title:  \"The neighbor favor . Kristina Forest.\"\n",
    "}\n",
    "\n",
    "{\n",
    "  title: {\n",
    "    $in: [\n",
    "      \"The neighbor favor . Kristina Forest.\",\n",
    "      \"The light always breaks . Angela Jackson-Brown.\"\n",
    "    ]\n",
    "  }\n",
    "}"
   ]
  },
  {
   "cell_type": "markdown",
   "metadata": {},
   "source": [
    "## Before Indexing"
   ]
  },
  {
   "cell_type": "markdown",
   "metadata": {},
   "source": [
    "{\n",
    "  title:  \"The neighbor favor . Kristina Forest.\"\n",
    "}\n",
    "\n",
    "![Alt text](image/Explain1.png)"
   ]
  },
  {
   "cell_type": "markdown",
   "metadata": {},
   "source": [
    "{\n",
    "  title: {\n",
    "    $in: [\n",
    "      \"The neighbor favor . Kristina Forest.\",\n",
    "      \"The light always breaks . Angela Jackson-Brown.\"\n",
    "    ]\n",
    "  }\n",
    "}\n",
    "\n",
    "![Alt text](image/Explain4.png)"
   ]
  },
  {
   "cell_type": "markdown",
   "metadata": {},
   "source": [
    "## After Indexing"
   ]
  },
  {
   "cell_type": "markdown",
   "metadata": {},
   "source": [
    "{\n",
    "  title:  \"The neighbor favor . Kristina Forest.\"\n",
    "}\n",
    "\n",
    "![Alt text](image/Explain2.png)"
   ]
  },
  {
   "cell_type": "markdown",
   "metadata": {},
   "source": [
    "{\n",
    "  title: {\n",
    "    $in: [\n",
    "      \"The neighbor favor . Kristina Forest.\",\n",
    "      \"The light always breaks . Angela Jackson-Brown.\"\n",
    "    ]\n",
    "  }\n",
    "}\n",
    "\n",
    "![Alt text](image/Explain3.png)"
   ]
  }
 ],
 "metadata": {
  "kernelspec": {
   "display_name": "base",
   "language": "python",
   "name": "python3"
  },
  "language_info": {
   "codemirror_mode": {
    "name": "ipython",
    "version": 3
   },
   "file_extension": ".py",
   "mimetype": "text/x-python",
   "name": "python",
   "nbconvert_exporter": "python",
   "pygments_lexer": "ipython3",
   "version": "3.12.1"
  }
 },
 "nbformat": 4,
 "nbformat_minor": 2
}
